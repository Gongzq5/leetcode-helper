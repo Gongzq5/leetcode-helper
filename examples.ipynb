{
 "cells": [
  {
   "cell_type": "markdown",
   "id": "5a1a143d",
   "metadata": {},
   "source": [
    "# Examples\n",
    "\n",
    "## TOC\n",
    "\n",
    "1. [Arrays](#Arrays)\n",
    "2. [Linked-List-(Single)](#Linked-List-(Single))\n",
    "3. [Binary-Tree](#Binary-Tree)\n",
    "4. [Reporter](#Reporter)"
   ]
  },
  {
   "cell_type": "code",
   "execution_count": 1,
   "id": "d143b964",
   "metadata": {},
   "outputs": [],
   "source": [
    "import leetcode as lc"
   ]
  },
  {
   "cell_type": "markdown",
   "id": "334d3163",
   "metadata": {},
   "source": [
    "## Arrays"
   ]
  },
  {
   "cell_type": "code",
   "execution_count": 2,
   "id": "2311fc89",
   "metadata": {},
   "outputs": [
    {
     "name": "stdout",
     "output_type": "stream",
     "text": [
      "  1 2 3 4 5 6 7 8 2000 21 42\n",
      "^     2              8    10\n"
     ]
    }
   ],
   "source": [
    "lc.array.printWithIndex([1,2,3,4,5,6,7,8,2000,21,42], [2,8,10])"
   ]
  },
  {
   "cell_type": "markdown",
   "id": "581c6328",
   "metadata": {},
   "source": [
    "## Linked List (Single)\n",
    "\n",
    "### The ListNode class type"
   ]
  },
  {
   "cell_type": "code",
   "execution_count": 5,
   "id": "bc5f333c",
   "metadata": {},
   "outputs": [],
   "source": [
    "from leetcode.list import ListNode"
   ]
  },
  {
   "cell_type": "markdown",
   "id": "f40914fe",
   "metadata": {},
   "source": [
    "### Create a list from an array "
   ]
  },
  {
   "cell_type": "code",
   "execution_count": 6,
   "id": "51f5c20d",
   "metadata": {},
   "outputs": [],
   "source": [
    "head = lc.list.fromArray([1,2,3,4,5,6])"
   ]
  },
  {
   "cell_type": "markdown",
   "id": "a9f2d7cb",
   "metadata": {},
   "source": [
    "### Output linked list"
   ]
  },
  {
   "cell_type": "code",
   "execution_count": 7,
   "id": "d160bc83",
   "metadata": {},
   "outputs": [],
   "source": [
    "head = lc.list.fromArray([1,2,3,4,5,6])"
   ]
  },
  {
   "cell_type": "code",
   "execution_count": 8,
   "id": "425f7aaf",
   "metadata": {},
   "outputs": [
    {
     "name": "stdout",
     "output_type": "stream",
     "text": [
      "[1, 2, 3, 4, 5, 6, ]\n"
     ]
    }
   ],
   "source": [
    "lc.list.printList(head)"
   ]
  },
  {
   "cell_type": "code",
   "execution_count": 9,
   "id": "cc68fa35",
   "metadata": {},
   "outputs": [
    {
     "name": "stdout",
     "output_type": "stream",
     "text": [
      "[1 -> 2 -> 3 -> 4 -> 5 -> 6 -> ]\n"
     ]
    }
   ],
   "source": [
    "lc.list.printList(head, style=\"a\") # Whatever the style is, as long as not None"
   ]
  },
  {
   "cell_type": "markdown",
   "id": "03c27aa3",
   "metadata": {},
   "source": [
    "## Binary Tree\n",
    "\n",
    "### The TreeNode class type"
   ]
  },
  {
   "cell_type": "code",
   "execution_count": 11,
   "id": "6addf7c0",
   "metadata": {},
   "outputs": [],
   "source": [
    "from leetcode.tree import TreeNode"
   ]
  },
  {
   "cell_type": "markdown",
   "id": "46160fb3",
   "metadata": {},
   "source": [
    "### Create a tree from an array - and Draw it"
   ]
  },
  {
   "cell_type": "code",
   "execution_count": 12,
   "id": "d446e34a",
   "metadata": {},
   "outputs": [
    {
     "data": {
      "image/png": "[encoded data removed]",
      "text/plain": [
       "<Figure size 414.352x216 with 1 Axes>"
      ]
     },
     "metadata": {},
     "output_type": "display_data"
    }
   ],
   "source": [
    "root = lc.tree.fromArray([1,2,3,4,5,None,7]) # Use array and None\n",
    "\n",
    "lc.tree.draw(root)"
   ]
  },
  {
   "cell_type": "code",
   "execution_count": 13,
   "id": "e8ab2ae5",
   "metadata": {},
   "outputs": [
    {
     "data": {
      "image/png": "[encoded data removed]",
      "text/plain": [
       "<Figure size 414.352x216 with 1 Axes>"
      ]
     },
     "metadata": {},
     "output_type": "display_data"
    }
   ],
   "source": [
    "root = lc.tree.fromArray(\"[1,2,3,4,null,5,7]\") # Use array format string and \"null\"\n",
    "\n",
    "lc.tree.draw(root)"
   ]
  },
  {
   "cell_type": "markdown",
   "id": "a6813854",
   "metadata": {},
   "source": [
    "### Serialize as array/string"
   ]
  },
  {
   "cell_type": "code",
   "execution_count": 14,
   "id": "cf17c759",
   "metadata": {},
   "outputs": [
    {
     "data": {
      "image/png": "[encoded data removed]",
      "text/plain": [
       "<Figure size 414.352x216 with 1 Axes>"
      ]
     },
     "metadata": {},
     "output_type": "display_data"
    }
   ],
   "source": [
    "root = lc.tree.fromArray([1,2,3,4,5,None,7]) # Use array and None\n",
    "lc.tree.draw(root)"
   ]
  },
  {
   "cell_type": "code",
   "execution_count": 15,
   "id": "38015d0d",
   "metadata": {},
   "outputs": [
    {
     "data": {
      "text/plain": [
       "[1, 2, 3, 4, 5, None, 7]"
      ]
     },
     "execution_count": 15,
     "metadata": {},
     "output_type": "execute_result"
    }
   ],
   "source": [
    "lc.tree.toArray(root)"
   ]
  },
  {
   "cell_type": "code",
   "execution_count": 16,
   "id": "e034f91a",
   "metadata": {},
   "outputs": [
    {
     "data": {
      "text/plain": [
       "'[1,2,3,4,5,null,7]'"
      ]
     },
     "execution_count": 16,
     "metadata": {},
     "output_type": "execute_result"
    }
   ],
   "source": [
    "lc.tree.toStr(root)"
   ]
  },
  {
   "cell_type": "markdown",
   "id": "615905aa",
   "metadata": {},
   "source": [
    "## Reporter\n",
    "\n",
    "Sometimes need to adjust code many times, and when the recently cases pass, some previous cases fail again. So use this method for some problems.\n",
    "\n",
    "Use leetcode style solution as example,"
   ]
  },
  {
   "cell_type": "code",
   "execution_count": 17,
   "id": "43573a9d",
   "metadata": {},
   "outputs": [],
   "source": [
    "class Solution:\n",
    "    def findMinInArray(self, nums):\n",
    "        return nums[1]"
   ]
  },
  {
   "cell_type": "code",
   "execution_count": 18,
   "id": "556a84d9",
   "metadata": {},
   "outputs": [],
   "source": [
    "testcases = [\n",
    "    ( 0 , ( [0, 1, 2, 3], ) ),\n",
    "    ( 1 , ( [3, 1, 2, 3], ) ),\n",
    "    ( 1 , ( [1, 2, 3], ) ),\n",
    "    ( 3 , ( [7, 3], ) ),\n",
    "    ( 2 , ( [2, 3], ) ),\n",
    "#     ( 2 , ( [2], ) )\n",
    "]"
   ]
  },
  {
   "cell_type": "code",
   "execution_count": 19,
   "id": "cfa6f727",
   "metadata": {},
   "outputs": [
    {
     "name": "stdout",
     "output_type": "stream",
     "text": [
      "+---------+------------+--------+-----------------+\n",
      "|  Status |    Time    | Output |    Test Case    |\n",
      "+---------+------------+--------+-----------------+\n",
      "| X WRONG | 0.0000021s |   1    | ([0, 1, 2, 3],) |\n",
      "| \u001b[0;32m√ PASS \u001b[0m | \u001b[0;32m0.0000010s\u001b[0m |   \u001b[0;32m1\u001b[0m    | \u001b[0;32m([3, 1, 2, 3],)\u001b[0m |\n",
      "| X WRONG | 0.0000010s |   2    |   ([1, 2, 3],)  |\n",
      "| \u001b[0;32m√ PASS \u001b[0m | \u001b[0;32m0.0000010s\u001b[0m |   \u001b[0;32m3\u001b[0m    |    \u001b[0;32m([7, 3],)\u001b[0m    |\n",
      "| X WRONG | 0.0000007s |   3    |    ([2, 3],)    |\n",
      "+---------+------------+--------+-----------------+\n",
      "Total 5, pass 2, fail 3\n"
     ]
    }
   ],
   "source": [
    "lc.reporter.report(Solution().findMinInArray, testcases)"
   ]
  },
  {
   "cell_type": "markdown",
   "id": "e680d609",
   "metadata": {},
   "source": [
    "### Show expected values\n",
    "\n",
    "We didn't show the truth, we can use `expect` option to switch."
   ]
  },
  {
   "cell_type": "code",
   "execution_count": 20,
   "id": "19c76aa1",
   "metadata": {
    "scrolled": true
   },
   "outputs": [
    {
     "name": "stdout",
     "output_type": "stream",
     "text": [
      "+---------+------------+--------+--------+-----------------+\n",
      "|  Status |    Time    | Output | Expect |    Test Case    |\n",
      "+---------+------------+--------+--------+-----------------+\n",
      "| X WRONG | 0.0000026s |   1    |   0    | ([0, 1, 2, 3],) |\n",
      "| \u001b[0;32m√ PASS \u001b[0m | \u001b[0;32m0.0000014s\u001b[0m |   \u001b[0;32m1\u001b[0m    |   \u001b[0;32m1\u001b[0m    | \u001b[0;32m([3, 1, 2, 3],)\u001b[0m |\n",
      "| X WRONG | 0.0000014s |   2    |   1    |   ([1, 2, 3],)  |\n",
      "| \u001b[0;32m√ PASS \u001b[0m | \u001b[0;32m0.0000012s\u001b[0m |   \u001b[0;32m3\u001b[0m    |   \u001b[0;32m3\u001b[0m    |    \u001b[0;32m([7, 3],)\u001b[0m    |\n",
      "| X WRONG | 0.0000012s |   3    |   2    |    ([2, 3],)    |\n",
      "+---------+------------+--------+--------+-----------------+\n",
      "Total 5, pass 2, fail 3\n"
     ]
    }
   ],
   "source": [
    "lc.reporter.report(Solution().findMinInArray, testcases, expect=True)"
   ]
  },
  {
   "cell_type": "markdown",
   "id": "9c03395f",
   "metadata": {},
   "source": [
    "### Show fail cases only\n",
    "\n",
    "We can use `verbose` option to switch."
   ]
  },
  {
   "cell_type": "code",
   "execution_count": 21,
   "id": "42ee70ff",
   "metadata": {
    "scrolled": true
   },
   "outputs": [
    {
     "name": "stdout",
     "output_type": "stream",
     "text": [
      "+---------+------------+--------+-----------------+\n",
      "|  Status |    Time    | Output |    Test Case    |\n",
      "+---------+------------+--------+-----------------+\n",
      "| X WRONG | 0.0000026s |   1    | ([0, 1, 2, 3],) |\n",
      "| X WRONG | 0.0000014s |   2    |   ([1, 2, 3],)  |\n",
      "| X WRONG | 0.0000007s |   3    |    ([2, 3],)    |\n",
      "+---------+------------+--------+-----------------+\n",
      "Total 5, pass 2, fail 3\n"
     ]
    }
   ],
   "source": [
    "lc.reporter.report(Solution().findMinInArray, testcases, verbose=False)"
   ]
  },
  {
   "cell_type": "markdown",
   "id": "20446425",
   "metadata": {},
   "source": [
    "### Error handle\n",
    "\n",
    "Will throw the error out, and print the traceback."
   ]
  },
  {
   "cell_type": "code",
   "execution_count": 22,
   "id": "854c8565",
   "metadata": {},
   "outputs": [
    {
     "name": "stdout",
     "output_type": "stream",
     "text": [
      "Program error on testcase (2, ([2],))\n",
      "Traceback (most recent call last):\n",
      "  File \"/home/zequn/Downloads/leetcode-helper/leetcode/reporter.py\", line 94, in report\n",
      "    true_output = method(*test_input)\n",
      "  File \"<ipython-input-17-19d952429615>\", line 3, in findMinInArray\n",
      "    return nums[1]\n",
      "IndexError: list index out of range\n",
      "\n",
      "+---------+------------+--------+-----------------+\n",
      "|  Status |    Time    | Output |    Test Case    |\n",
      "+---------+------------+--------+-----------------+\n",
      "| X WRONG | 0.0000021s |   1    | ([0, 1, 2, 3],) |\n",
      "| \u001b[0;31m! ERROR\u001b[0m |    \u001b[0;31mnil\u001b[0m     |  \u001b[0;31mnil\u001b[0m   |      \u001b[0;31m([2],)\u001b[0m     |\n",
      "+---------+------------+--------+-----------------+\n",
      "Total 2, pass 0, fail 2\n"
     ]
    }
   ],
   "source": [
    "testcases = [\n",
    "    ( 0 , ( [0, 1, 2, 3], ) ),\n",
    "    ( 2 , ( [2], ) )\n",
    "]\n",
    "\n",
    "lc.reporter.report(Solution().findMinInArray, testcases)"
   ]
  },
  {
   "cell_type": "markdown",
   "id": "6a0a40ad",
   "metadata": {},
   "source": [
    "## Simple function drawer\n",
    "\n",
    "Just draw a lambda function, easy to use sometimes"
   ]
  },
  {
   "cell_type": "code",
   "execution_count": null,
   "id": "d22b47fd",
   "metadata": {},
   "outputs": [],
   "source": [
    "def f(x):\n",
    "    return x ** 2\n",
    "\n",
    "lc.simple_drawer.draw2d(f)"
   ]
  },
  {
   "cell_type": "markdown",
   "id": "688041af",
   "metadata": {},
   "source": [
    "Can also specify the input range"
   ]
  },
  {
   "cell_type": "code",
   "execution_count": 29,
   "id": "f556c5b8",
   "metadata": {},
   "outputs": [
    {
     "name": "stderr",
     "output_type": "stream",
     "text": [
      "/home/zequn/Downloads/leetcode-helper/leetcode/simple_drawer.py:34: UserWarning: Matplotlib is currently using module://ipykernel.pylab.backend_inline, which is a non-GUI backend, so cannot show the figure.\n",
      "  fig.show()\n"
     ]
    },
    {
     "data": {
      "image/png": "[encoded data removed]",
      "text/plain": [
       "<Figure size 432x288 with 1 Axes>"
      ]
     },
     "metadata": {
      "needs_background": "light"
     },
     "output_type": "display_data"
    }
   ],
   "source": [
    "lc.simple_drawer.draw2d(f, input_range=(-1, 5))"
   ]
  },
  {
   "cell_type": "code",
   "execution_count": null,
   "id": "a1390e39",
   "metadata": {},
   "outputs": [],
   "source": []
  }
 ],
 "metadata": {
  "kernelspec": {
   "display_name": "Python [conda env:leetcode] *",
   "language": "python",
   "name": "conda-env-leetcode-py"
  },
  "language_info": {
   "codemirror_mode": {
    "name": "ipython",
    "version": 3
   },
   "file_extension": ".py",
   "mimetype": "text/x-python",
   "name": "python",
   "nbconvert_exporter": "python",
   "pygments_lexer": "ipython3",
   "version": "3.8.10"
  }
 },
 "nbformat": 4,
 "nbformat_minor": 5
}
